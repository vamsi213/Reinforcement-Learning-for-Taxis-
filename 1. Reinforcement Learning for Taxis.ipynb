{
 "cells": [
  {
   "cell_type": "markdown",
   "metadata": {},
   "source": [
    "# Reinforcement learning for Taxis"
   ]
  },
  {
   "cell_type": "code",
   "execution_count": 26,
   "metadata": {
    "_cell_guid": "b1076dfc-b9ad-4769-8c92-a6c4dae69d19",
    "_uuid": "8f2839f25d086af736a60e9eeb907d3b93b6e0e5",
    "execution": {
     "iopub.execute_input": "2021-09-01T12:06:50.036697Z",
     "iopub.status.busy": "2021-09-01T12:06:50.036111Z",
     "iopub.status.idle": "2021-09-01T12:06:50.051457Z",
     "shell.execute_reply": "2021-09-01T12:06:50.049364Z",
     "shell.execute_reply.started": "2021-09-01T12:06:50.036585Z"
    }
   },
   "outputs": [],
   "source": [
    "# This Python 3 environment comes with many helpful analytics libraries installed\n",
    "# For example, here's several helpful packages to load\n",
    "\n",
    "import numpy as np # linear algebra\n",
    "import pandas as pd # data processing, CSV file I/O (e.g. pd.read_csv)"
   ]
  },
  {
   "cell_type": "code",
   "execution_count": 1,
   "metadata": {
    "execution": {
     "iopub.execute_input": "2021-09-01T12:07:16.953457Z",
     "iopub.status.busy": "2021-09-01T12:07:16.953082Z",
     "iopub.status.idle": "2021-09-01T12:07:17.298348Z",
     "shell.execute_reply": "2021-09-01T12:07:17.297171Z",
     "shell.execute_reply.started": "2021-09-01T12:07:16.953424Z"
    }
   },
   "outputs": [],
   "source": [
    "#This code is importing several libraries: gym, IPython.display, time, numpy, and random. \n",
    "#The gym library is commonly used for reinforcement learning tasks, providing a collection of environments to test and train agents.\n",
    "#The IPython.display library is used for displaying output in the IPython environment, which allows for better visualization of results.\n",
    "#The time library is used for time-related operations, such as pausing the program for a certain duration.\n",
    "#The numpy library is used for numerical computations and array manipulation.\n",
    "#The random library is used for generating random numbers or making random choices.\n",
    "import gym\n",
    "from IPython.display import clear_output\n",
    "from time import sleep\n",
    "import numpy as np\n",
    "import random"
   ]
  },
  {
   "cell_type": "code",
   "execution_count": 28,
   "metadata": {
    "execution": {
     "iopub.execute_input": "2021-09-01T12:07:24.487288Z",
     "iopub.status.busy": "2021-09-01T12:07:24.486909Z",
     "iopub.status.idle": "2021-09-01T12:07:25.349898Z",
     "shell.execute_reply": "2021-09-01T12:07:25.349046Z",
     "shell.execute_reply.started": "2021-09-01T12:07:24.487244Z"
    }
   },
   "outputs": [
    {
     "name": "stdout",
     "output_type": "stream",
     "text": [
      "+---------+\n",
      "|R: | : :\u001b[35mG\u001b[0m|\n",
      "| : | : : |\n",
      "| : : : : |\n",
      "| |\u001b[43m \u001b[0m: | : |\n",
      "|\u001b[34;1mY\u001b[0m| : |B: |\n",
      "+---------+\n",
      "\n",
      "+---------+\n",
      "|\u001b[35mR\u001b[0m: | : :\u001b[34;1mG\u001b[0m|\n",
      "| : | : : |\n",
      "|\u001b[43m \u001b[0m: : : : |\n",
      "| | : | : |\n",
      "|Y| : |B: |\n",
      "+---------+\n",
      "\n",
      "Action Space Discrete(6)\n",
      "State Space Discrete(500)\n"
     ]
    }
   ],
   "source": [
    "#The code creates an instance of the \"Taxi-v3\" environment from the OpenAI Gym library using the gym.make() function. \n",
    "#The env variable represents this environment.\n",
    "env = gym.make(\"Taxi-v3\").env\n",
    "env.render()\n",
    "\n",
    "# reset environment to a new, random state\n",
    "env.reset() \n",
    "env.render()\n",
    "\n",
    "print(\"Action Space {}\".format(env.action_space))\n",
    "print(\"State Space {}\".format(env.observation_space))"
   ]
  },
  {
   "cell_type": "code",
   "execution_count": 29,
   "metadata": {
    "execution": {
     "iopub.execute_input": "2021-09-01T12:07:32.167093Z",
     "iopub.status.busy": "2021-09-01T12:07:32.166604Z",
     "iopub.status.idle": "2021-09-01T12:07:32.172339Z",
     "shell.execute_reply": "2021-09-01T12:07:32.171515Z",
     "shell.execute_reply.started": "2021-09-01T12:07:32.167062Z"
    }
   },
   "outputs": [],
   "source": [
    "# Environment Parameters\n",
    "actions = {0: 'South', 1: 'North', 2: 'East', 3: 'West', 4: 'Pickup', 5: 'Dropoff'}\n",
    "passenger = {'R': 0, 'G': 1, 'Y': 2, 'B': 3, 'Car': 4}\n",
    "dest = {'R': 0, 'G': 1, 'Y': 2, 'B': 3}\n",
    "# Reward: each_step=-1, incorrect_pickup_dropoff=-10, correct_dropoff=20\n",
    "# Penalty: incorrect_pickup_dropoff=1"
   ]
  },
  {
   "cell_type": "markdown",
   "metadata": {},
   "source": [
    "### Functions"
   ]
  },
  {
   "cell_type": "code",
   "execution_count": 30,
   "metadata": {
    "execution": {
     "iopub.execute_input": "2021-09-01T12:07:50.274929Z",
     "iopub.status.busy": "2021-09-01T12:07:50.274457Z",
     "iopub.status.idle": "2021-09-01T12:07:50.281748Z",
     "shell.execute_reply": "2021-09-01T12:07:50.281048Z",
     "shell.execute_reply.started": "2021-09-01T12:07:50.274898Z"
    }
   },
   "outputs": [],
   "source": [
    "# Brute Force Approach\n",
    "def brute_force(state):\n",
    "    env.s = state\n",
    "    epochs = 0\n",
    "    penalties, reward = 0, 0\n",
    "    frames = [] # for animation\n",
    "    # initial state\n",
    "    frames.append({\n",
    "        'frame': env.render(mode='ansi'),\n",
    "        'state': state,\n",
    "        'action': '--',\n",
    "        'reward': '--'\n",
    "        }\n",
    "    )\n",
    "    done = False\n",
    "    \n",
    "    while not done:\n",
    "        # Next action is choosen randomly\n",
    "        action = env.action_space.sample()\n",
    "        state, reward, done, info = env.step(action)\n",
    "        if reward == -10:\n",
    "            penalties += 1\n",
    "        # Put each rendered frame into dict for animation\n",
    "        frames.append({\n",
    "            'frame': env.render(mode='ansi'),\n",
    "            'state': state,\n",
    "            'action': action,\n",
    "            'reward': reward\n",
    "            }\n",
    "        )\n",
    "        epochs += 1\n",
    "    return frames, epochs, penalties"
   ]
  },
  {
   "cell_type": "code",
   "execution_count": 31,
   "metadata": {
    "execution": {
     "iopub.execute_input": "2021-09-01T12:07:56.251444Z",
     "iopub.status.busy": "2021-09-01T12:07:56.250891Z",
     "iopub.status.idle": "2021-09-01T12:07:56.256966Z",
     "shell.execute_reply": "2021-09-01T12:07:56.256089Z",
     "shell.execute_reply.started": "2021-09-01T12:07:56.251401Z"
    }
   },
   "outputs": [],
   "source": [
    "# Visualise frames\n",
    "def print_frames(frames, time_btw_frames=0.1):\n",
    "    for i, frame in enumerate(frames):\n",
    "        clear_output(wait=True)\n",
    "        print(frame['frame'])\n",
    "        print(f\"Timestep: {i}\")\n",
    "        print(f\"State: {frame['state']}\")\n",
    "        print(f\"Action: {frame['action']}\")\n",
    "        print(f\"Reward: {frame['reward']}\")\n",
    "        sleep(time_btw_frames)"
   ]
  },
  {
   "cell_type": "code",
   "execution_count": 32,
   "metadata": {
    "execution": {
     "iopub.execute_input": "2021-09-01T12:08:01.124873Z",
     "iopub.status.busy": "2021-09-01T12:08:01.124341Z",
     "iopub.status.idle": "2021-09-01T12:08:01.134828Z",
     "shell.execute_reply": "2021-09-01T12:08:01.134044Z",
     "shell.execute_reply.started": "2021-09-01T12:08:01.124828Z"
    }
   },
   "outputs": [],
   "source": [
    "# Train agent to find path using Reinforcement Learning\n",
    "def train_agent():\n",
    "    q_table = np.zeros([env.observation_space.n, env.action_space.n])\n",
    "    # Hyperparameters\n",
    "    # Learning rate\n",
    "    alpha = 0.1\n",
    "    # Discount factor: importance to future rewards\n",
    "    gamma = 0.6\n",
    "    # Exploration rate\n",
    "    epsilon = 0.1\n",
    "\n",
    "    # For plotting metrics\n",
    "    all_epochs = []\n",
    "    all_penalties = []\n",
    "\n",
    "    for i in range(1, 100001):\n",
    "        state = env.reset()\n",
    "\n",
    "        epochs, penalties, reward, = 0, 0, 0\n",
    "        done = False\n",
    "\n",
    "        while not done:\n",
    "            if random.uniform(0, 1) < epsilon:\n",
    "                action = env.action_space.sample() # Explore action space\n",
    "            else:\n",
    "                action = np.argmax(q_table[state]) # Exploit learned values\n",
    "\n",
    "            next_state, reward, done, info = env.step(action) \n",
    "\n",
    "#           Q-Learning\n",
    "            old_value = q_table[state, action]\n",
    "            next_max = np.max(q_table[next_state])\n",
    "\n",
    "            new_value = (1 - alpha) * old_value + alpha * (reward + gamma * next_max)\n",
    "            q_table[state, action] = new_value\n",
    "\n",
    "            if reward == -10:\n",
    "                penalties += 1\n",
    "\n",
    "            state = next_state\n",
    "            epochs += 1\n",
    "\n",
    "        if i % 100 == 0:\n",
    "            clear_output(wait=True)\n",
    "            print(f\"Episode: {i}\")\n",
    "\n",
    "    print(\"Training finished.\\n\")\n",
    "    return q_table"
   ]
  },
  {
   "cell_type": "code",
   "execution_count": 33,
   "metadata": {
    "execution": {
     "iopub.execute_input": "2021-09-01T12:08:07.479094Z",
     "iopub.status.busy": "2021-09-01T12:08:07.478745Z",
     "iopub.status.idle": "2021-09-01T12:08:07.487080Z",
     "shell.execute_reply": "2021-09-01T12:08:07.486315Z",
     "shell.execute_reply.started": "2021-09-01T12:08:07.479064Z"
    }
   },
   "outputs": [],
   "source": [
    "# Run agent trained using Reinforcemnt learning\n",
    "def run_agent(state, q_table):\n",
    "    epochs = 0\n",
    "    penalties, reward = 0, 0\n",
    "    env.s = state\n",
    "    \n",
    "    frames = [] # for animation\n",
    "    # initial state\n",
    "    frames.append({\n",
    "        'frame': env.render(mode='ansi'),\n",
    "        'state': state,\n",
    "        'action': '--',\n",
    "        'reward': '--'\n",
    "        }\n",
    "    )\n",
    "    done = False\n",
    "\n",
    "    while not done:\n",
    "        # Next action is choosen from q_table\n",
    "        action = np.argmax(q_table[state])\n",
    "        state, reward, done, info = env.step(action)\n",
    "        if reward == -10:\n",
    "            penalties += 1\n",
    "        # Put each rendered frame into dict for animation\n",
    "        frames.append({\n",
    "            'frame': env.render(mode='ansi'),\n",
    "            'state': state,\n",
    "            'action': action,\n",
    "            'reward': reward\n",
    "            }\n",
    "        )\n",
    "        epochs += 1\n",
    "    return frames, epochs, penalties"
   ]
  },
  {
   "cell_type": "markdown",
   "metadata": {},
   "source": [
    "### Initial State"
   ]
  },
  {
   "cell_type": "code",
   "execution_count": 34,
   "metadata": {
    "execution": {
     "iopub.execute_input": "2021-09-01T12:08:25.479938Z",
     "iopub.status.busy": "2021-09-01T12:08:25.479378Z",
     "iopub.status.idle": "2021-09-01T12:08:25.487315Z",
     "shell.execute_reply": "2021-09-01T12:08:25.486208Z",
     "shell.execute_reply.started": "2021-09-01T12:08:25.479888Z"
    }
   },
   "outputs": [
    {
     "name": "stdout",
     "output_type": "stream",
     "text": [
      "State: 488\n",
      "+---------+\n",
      "|\u001b[35mR\u001b[0m: | : :G|\n",
      "| : | : : |\n",
      "| : : : : |\n",
      "| | : | : |\n",
      "|\u001b[34;1mY\u001b[0m| : |B:\u001b[43m \u001b[0m|\n",
      "+---------+\n",
      "\n"
     ]
    }
   ],
   "source": [
    "# Loading state\n",
    "# (taxi row, taxi column, passenger index, destination index)\n",
    "# Blue letter indicates pickup location\n",
    "# Pink Letter indicates dropoff location\n",
    "state = env.encode(4, 4, passenger['Y'], dest['R']) \n",
    "env.s = state\n",
    "\n",
    "# Uncomment next line to load random state\n",
    "# env.reset()\n",
    "state = env.s\n",
    "print(\"State:\", state)\n",
    "env.render()"
   ]
  },
  {
   "cell_type": "code",
   "execution_count": 35,
   "metadata": {
    "execution": {
     "iopub.execute_input": "2021-09-01T12:08:31.532650Z",
     "iopub.status.busy": "2021-09-01T12:08:31.532305Z",
     "iopub.status.idle": "2021-09-01T12:08:31.541783Z",
     "shell.execute_reply": "2021-09-01T12:08:31.540611Z",
     "shell.execute_reply.started": "2021-09-01T12:08:31.532623Z"
    }
   },
   "outputs": [
    {
     "data": {
      "text/plain": [
       "{0: [(1.0, 488, -1, False)],\n",
       " 1: [(1.0, 388, -1, False)],\n",
       " 2: [(1.0, 488, -1, False)],\n",
       " 3: [(1.0, 468, -1, False)],\n",
       " 4: [(1.0, 488, -10, False)],\n",
       " 5: [(1.0, 488, -10, False)]}"
      ]
     },
     "execution_count": 35,
     "metadata": {},
     "output_type": "execute_result"
    }
   ],
   "source": [
    "# [Probability, Next State, Reward, Done] for the initial state\n",
    "env.P[state]"
   ]
  },
  {
   "cell_type": "markdown",
   "metadata": {},
   "source": [
    "### Brute Force Approach"
   ]
  },
  {
   "cell_type": "code",
   "execution_count": 36,
   "metadata": {
    "execution": {
     "iopub.execute_input": "2021-09-01T12:08:47.294308Z",
     "iopub.status.busy": "2021-09-01T12:08:47.293942Z",
     "iopub.status.idle": "2021-09-01T12:08:47.447379Z",
     "shell.execute_reply": "2021-09-01T12:08:47.446324Z",
     "shell.execute_reply.started": "2021-09-01T12:08:47.294264Z"
    }
   },
   "outputs": [
    {
     "name": "stdout",
     "output_type": "stream",
     "text": [
      "Timesteps taken: 351\n",
      "Penalties incurred: 121\n"
     ]
    }
   ],
   "source": [
    "frames, epochs, penalties = brute_force(state)\n",
    "print(\"Timesteps taken: {}\".format(epochs))\n",
    "print(\"Penalties incurred: {}\".format(penalties))"
   ]
  },
  {
   "cell_type": "code",
   "execution_count": 37,
   "metadata": {
    "execution": {
     "iopub.execute_input": "2021-09-01T12:08:53.501250Z",
     "iopub.status.busy": "2021-09-01T12:08:53.500904Z",
     "iopub.status.idle": "2021-09-01T12:10:13.719157Z",
     "shell.execute_reply": "2021-09-01T12:10:13.718079Z",
     "shell.execute_reply.started": "2021-09-01T12:08:53.501222Z"
    }
   },
   "outputs": [
    {
     "name": "stdout",
     "output_type": "stream",
     "text": [
      "+---------+\n",
      "|\u001b[35m\u001b[34;1m\u001b[43mR\u001b[0m\u001b[0m\u001b[0m: | : :G|\n",
      "| : | : : |\n",
      "| : : : : |\n",
      "| | : | : |\n",
      "|Y| : |B: |\n",
      "+---------+\n",
      "  (Dropoff)\n",
      "\n",
      "Timestep: 351\n",
      "State: 0\n",
      "Action: 5\n",
      "Reward: 20\n"
     ]
    }
   ],
   "source": [
    "# Visualise agent\n",
    "print_frames(frames, time_btw_frames=0.03)"
   ]
  },
  {
   "cell_type": "markdown",
   "metadata": {},
   "source": [
    "## Reinforcement Learning"
   ]
  },
  {
   "cell_type": "code",
   "execution_count": 38,
   "metadata": {
    "execution": {
     "iopub.execute_input": "2021-09-01T12:10:13.721143Z",
     "iopub.status.busy": "2021-09-01T12:10:13.720721Z",
     "iopub.status.idle": "2021-09-01T12:11:18.020107Z",
     "shell.execute_reply": "2021-09-01T12:11:18.019033Z",
     "shell.execute_reply.started": "2021-09-01T12:10:13.721112Z"
    }
   },
   "outputs": [
    {
     "name": "stdout",
     "output_type": "stream",
     "text": [
      "Episode: 100000\n",
      "Training finished.\n",
      "\n",
      "CPU times: total: 43.5 s\n",
      "Wall time: 1min 12s\n"
     ]
    }
   ],
   "source": [
    "%%time\n",
    "# Train Agent on 100000 episodes\n",
    "q_table = train_agent()"
   ]
  },
  {
   "cell_type": "code",
   "execution_count": 39,
   "metadata": {
    "execution": {
     "iopub.execute_input": "2021-09-01T12:11:18.022048Z",
     "iopub.status.busy": "2021-09-01T12:11:18.021756Z",
     "iopub.status.idle": "2021-09-01T12:11:18.029087Z",
     "shell.execute_reply": "2021-09-01T12:11:18.028016Z",
     "shell.execute_reply.started": "2021-09-01T12:11:18.022020Z"
    }
   },
   "outputs": [
    {
     "name": "stdout",
     "output_type": "stream",
     "text": [
      "+---------+\n",
      "|\u001b[35mR\u001b[0m: | : :G|\n",
      "| : | : : |\n",
      "| : : : : |\n",
      "| | : | : |\n",
      "|\u001b[34;1mY\u001b[0m| : |B:\u001b[43m \u001b[0m|\n",
      "+---------+\n",
      "  (Dropoff)\n",
      "[-2.47607781 -2.47061344 -2.47604657 -2.47061344 -8.76739532 -9.26424737]\n",
      "Best action: North\n"
     ]
    }
   ],
   "source": [
    "# Printing the best action for our initial state\n",
    "env.s = state\n",
    "env.render()\n",
    "print(q_table[state])\n",
    "print(\"Best action: {}\".format(actions[np.argmax(q_table[state])]))"
   ]
  },
  {
   "cell_type": "code",
   "execution_count": 40,
   "metadata": {
    "execution": {
     "iopub.execute_input": "2021-09-01T12:11:18.030894Z",
     "iopub.status.busy": "2021-09-01T12:11:18.030586Z",
     "iopub.status.idle": "2021-09-01T12:11:18.045290Z",
     "shell.execute_reply": "2021-09-01T12:11:18.044132Z",
     "shell.execute_reply.started": "2021-09-01T12:11:18.030865Z"
    }
   },
   "outputs": [
    {
     "name": "stdout",
     "output_type": "stream",
     "text": [
      "Timesteps taken: 14\n",
      "Penalties incurred: 0\n"
     ]
    }
   ],
   "source": [
    "# Running agent trained using Reinforcement Learning\n",
    "frames, epochs, penalties = run_agent(state, q_table)\n",
    "print(\"Timesteps taken: {}\".format(epochs))\n",
    "print(\"Penalties incurred: {}\".format(penalties))"
   ]
  },
  {
   "cell_type": "code",
   "execution_count": 41,
   "metadata": {
    "execution": {
     "iopub.execute_input": "2021-09-01T12:11:18.047325Z",
     "iopub.status.busy": "2021-09-01T12:11:18.046739Z",
     "iopub.status.idle": "2021-09-01T12:11:25.585617Z",
     "shell.execute_reply": "2021-09-01T12:11:25.584493Z",
     "shell.execute_reply.started": "2021-09-01T12:11:18.047253Z"
    }
   },
   "outputs": [
    {
     "name": "stdout",
     "output_type": "stream",
     "text": [
      "+---------+\n",
      "|\u001b[35m\u001b[34;1m\u001b[43mR\u001b[0m\u001b[0m\u001b[0m: | : :G|\n",
      "| : | : : |\n",
      "| : : : : |\n",
      "| | : | : |\n",
      "|Y| : |B: |\n",
      "+---------+\n",
      "  (Dropoff)\n",
      "\n",
      "Timestep: 14\n",
      "State: 0\n",
      "Action: 5\n",
      "Reward: 20\n"
     ]
    }
   ],
   "source": [
    "print_frames(frames,time_btw_frames=0.5)"
   ]
  },
  {
   "cell_type": "markdown",
   "metadata": {},
   "source": [
    "## Comparing Brute Force and Reinforement Learning approach"
   ]
  },
  {
   "cell_type": "code",
   "execution_count": 42,
   "metadata": {
    "execution": {
     "iopub.execute_input": "2021-09-01T12:11:25.587151Z",
     "iopub.status.busy": "2021-09-01T12:11:25.586861Z",
     "iopub.status.idle": "2021-09-01T12:11:37.592561Z",
     "shell.execute_reply": "2021-09-01T12:11:37.591378Z",
     "shell.execute_reply.started": "2021-09-01T12:11:25.587125Z"
    }
   },
   "outputs": [
    {
     "name": "stdout",
     "output_type": "stream",
     "text": [
      "Result after 100 episodes\n",
      "Average Brute-Force timestamps per episode           : 2129.73\n",
      "Average Brute-Force penalties per episode            : 690.29\n",
      "Average Reinforcement Learning timestamps per episode: 13.35\n",
      "Average Reinforcement Learning penalties per episode : 0.0\n",
      "CPU times: total: 11.8 s\n",
      "Wall time: 13.7 s\n"
     ]
    }
   ],
   "source": [
    "%%time\n",
    "episodes = 100\n",
    "brute_steps = 0\n",
    "brute_penalties = 0\n",
    "reinf_steps = 0\n",
    "reinf_penalties = 0\n",
    "\n",
    "for _ in range(episodes):\n",
    "    env.reset()\n",
    "    state = env.s\n",
    "    \n",
    "    frames, steps, penalties = brute_force(state)\n",
    "    brute_steps += steps\n",
    "    brute_penalties += penalties\n",
    "    \n",
    "    frames, steps, penalties = run_agent(state, q_table)\n",
    "    reinf_steps += steps\n",
    "    reinf_penalties += penalties\n",
    "    \n",
    "print('Result after {} episodes'.format(episodes))\n",
    "print('Average Brute-Force timestamps per episode           : {}'.format(brute_steps/episodes))\n",
    "print('Average Brute-Force penalties per episode            : {}'.format(brute_penalties/episodes))\n",
    "print('Average Reinforcement Learning timestamps per episode: {}'.format(reinf_steps/episodes))\n",
    "print('Average Reinforcement Learning penalties per episode : {}'.format(reinf_penalties/episodes))"
   ]
  },
  {
   "cell_type": "markdown",
   "metadata": {},
   "source": [
    "<p><b>This clearly indicates that Reinforcement Learning is much better than Brute Force, \n",
    "    because in the latter approach the agent is not learning from past experiences.</b></p>"
   ]
  },
  {
   "cell_type": "code",
   "execution_count": null,
   "metadata": {},
   "outputs": [],
   "source": []
  }
 ],
 "metadata": {
  "kernelspec": {
   "display_name": "Python 3 (ipykernel)",
   "language": "python",
   "name": "python3"
  },
  "language_info": {
   "codemirror_mode": {
    "name": "ipython",
    "version": 3
   },
   "file_extension": ".py",
   "mimetype": "text/x-python",
   "name": "python",
   "nbconvert_exporter": "python",
   "pygments_lexer": "ipython3",
   "version": "3.10.9"
  }
 },
 "nbformat": 4,
 "nbformat_minor": 4
}
